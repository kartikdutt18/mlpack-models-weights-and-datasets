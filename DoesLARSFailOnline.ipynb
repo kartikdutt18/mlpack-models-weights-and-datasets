{
 "cells": [
  {
   "cell_type": "code",
   "execution_count": 1,
   "metadata": {},
   "outputs": [],
   "source": [
    "#include <mlpack/prereqs.hpp>\n",
    "#include <mlpack/core.hpp>\n",
    "#include <mlpack/methods/lars/lars.hpp>"
   ]
  },
  {
   "cell_type": "code",
   "execution_count": 2,
   "metadata": {},
   "outputs": [
    {
     "name": "stdout",
     "output_type": "stream",
     "text": [
      "Training completed\n"
     ]
    }
   ],
   "source": [
    "arma::mat features(11, 100);\n",
    "arma::rowvec targets(1, 100);\n",
    "mlpack::regression::LARS glm (false, .5, .5);\n",
    "std::vector<mlpack::regression::LARS> inventoryofModels;\n",
    "glm.Train(features, targets);\n",
    "inventoryofModels.emplace_back(glm);\n",
    "inventoryofModels[0].Train(features, targets);\n",
    "std::cout << \"Training completed\\n\";"
   ]
  },
  {
   "cell_type": "code",
   "execution_count": 3,
   "metadata": {},
   "outputs": [
    {
     "name": "stdout",
     "output_type": "stream",
     "text": [
      "Training completed\n"
     ]
    }
   ],
   "source": [
    "arma::mat features(11, 100);\n",
    "arma::rowvec targets(1, 100);\n",
    "mlpack::regression::LARS* glm = new mlpack::regression::LARS(false, .5, .5);\n",
    "std::vector<mlpack::regression::LARS*> inventoryofModels;\n",
    "inventoryofModels.emplace_back(glm);\n",
    "inventoryofModels[0]->Train(features, targets);\n",
    "std::cout << \"Training completed\\n\";"
   ]
  },
  {
   "cell_type": "code",
   "execution_count": null,
   "metadata": {},
   "outputs": [],
   "source": []
  }
 ],
 "metadata": {
  "kernelspec": {
   "display_name": "C++11",
   "language": "C++11",
   "name": "xcpp11"
  },
  "language_info": {
   "codemirror_mode": "text/x-c++src",
   "file_extension": ".cpp",
   "mimetype": "text/x-c++src",
   "name": "c++",
   "version": "11"
  }
 },
 "nbformat": 4,
 "nbformat_minor": 2
}
