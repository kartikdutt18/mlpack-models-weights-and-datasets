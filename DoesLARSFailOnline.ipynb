{
 "cells": [
  {
   "cell_type": "code",
   "execution_count": 1,
   "metadata": {},
   "outputs": [],
   "source": [
    "#include <mlpack/prereqs.hpp>\n",
    "#include <mlpack/core.hpp>\n",
    "#include <mlpack/methods/lars/lars.hpp>"
   ]
  },
  {
   "cell_type": "code",
   "execution_count": 2,
   "metadata": {},
   "outputs": [
    {
     "name": "stdout",
     "output_type": "stream",
     "text": [
      "Training completed\n"
     ]
    }
   ],
   "source": [
    "arma::mat features(11, 100);\n",
    "arma::rowvec targets(1, 100);\n",
    "mlpack::regression::LARS glm (false, .5, .5);\n",
    "std::vector<mlpack::regression::LARS> inventoryofModels;\n",
    "glm.Train(features, targets);\n",
    "inventoryofModels.emplace_back(glm);\n",
    "inventoryofModels[0].Train(features, targets);\n",
    "std::cout << \"Training completed\\n\";"
   ]
  },
  {
   "cell_type": "code",
   "execution_count": 4,
   "metadata": {},
   "outputs": [
    {
     "name": "stderr",
     "output_type": "stream",
     "text": [
      "In file included from input_line_5:1:\n",
      "In file included from /usr/local/include/xeus/xinterpreter.hpp:13:\n",
      "In file included from /usr/bin/../lib/gcc/x86_64-linux-gnu/7.5.0/../../../../include/c++/7.5.0/functional:54:\n",
      "In file included from /usr/bin/../lib/gcc/x86_64-linux-gnu/7.5.0/../../../../include/c++/7.5.0/tuple:39:\n",
      "In file included from /usr/bin/../lib/gcc/x86_64-linux-gnu/7.5.0/../../../../include/c++/7.5.0/array:39:\n",
      "In file included from /usr/bin/../lib/gcc/x86_64-linux-gnu/7.5.0/../../../../include/c++/7.5.0/stdexcept:39:\n",
      "In file included from /usr/bin/../lib/gcc/x86_64-linux-gnu/7.5.0/../../../../include/c++/7.5.0/string:41:\n",
      "In file included from /usr/bin/../lib/gcc/x86_64-linux-gnu/7.5.0/../../../../include/c++/7.5.0/bits/allocator.h:46:\n",
      "In file included from /usr/bin/../lib/gcc/x86_64-linux-gnu/7.5.0/../../../../include/x86_64-linux-gnu/c++/7.5.0/bits/c++allocator.h:33:\n",
      "/usr/bin/../lib/gcc/x86_64-linux-gnu/7.5.0/../../../../include/c++/7.5.0/ext/new_allocator.h:136:23: error: no viable conversion from 'mlpack::regression::LARS' to 'mlpack::regression::LARS *'\n",
      "        { ::new((void *)__p) _Up(std::forward<_Args>(__args)...); }\n",
      "                             ^   ~~~~~~~~~~~~~~~~~~~~~~~~~~~\n",
      "/usr/bin/../lib/gcc/x86_64-linux-gnu/7.5.0/../../../../include/c++/7.5.0/bits/alloc_traits.h:475:8: note: in instantiation of function template specialization '__gnu_cxx::new_allocator<mlpack::regression::LARS *>::construct<mlpack::regression::LARS *, mlpack::regression::LARS &>' requested here\n",
      "        { __a.construct(__p, std::forward<_Args>(__args)...); }\n",
      "              ^\n",
      "/usr/bin/../lib/gcc/x86_64-linux-gnu/7.5.0/../../../../include/c++/7.5.0/bits/vector.tcc:100:21: note: in instantiation of function template specialization 'std::allocator_traits<std::allocator<mlpack::regression::LARS *> >::construct<mlpack::regression::LARS *, mlpack::regression::LARS &>' requested here\n",
      "            _Alloc_traits::construct(this->_M_impl, this->_M_impl._M_finish,\n",
      "                           ^\n",
      "input_line_12:6:19: note: in instantiation of function template specialization 'std::vector<mlpack::regression::LARS *, std::allocator<mlpack::regression::LARS *> >::emplace_back<mlpack::regression::LARS &>' requested here\n",
      "inventoryofModels.emplace_back(glm);\n",
      "                  ^\n"
     ]
    },
    {
     "ename": "Interpreter Error",
     "evalue": "",
     "output_type": "error",
     "traceback": [
      "Interpreter Error: "
     ]
    }
   ],
   "source": [
    "arma::mat features(11, 100);\n",
    "arma::rowvec targets(1, 100);\n",
    "mlpack::regression::LARS glm = new mlpack::regression::LARS(false, .5, .5);\n",
    "std::vector<mlpack::regression::LARS*> inventoryofModels;\n",
    "inventoryofModels.emplace_back(glm);\n",
    "inventoryofModels[0]->Train(features, targets);"
   ]
  },
  {
   "cell_type": "code",
   "execution_count": null,
   "metadata": {},
   "outputs": [],
   "source": []
  }
 ],
 "metadata": {
  "kernelspec": {
   "display_name": "C++11",
   "language": "C++11",
   "name": "xcpp11"
  },
  "language_info": {
   "codemirror_mode": "text/x-c++src",
   "file_extension": ".cpp",
   "mimetype": "text/x-c++src",
   "name": "c++",
   "version": "11"
  }
 },
 "nbformat": 4,
 "nbformat_minor": 2
}
